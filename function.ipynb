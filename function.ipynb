{
 "cells": [
  {
   "cell_type": "code",
   "execution_count": 33,
   "metadata": {},
   "outputs": [
    {
     "name": "stdout",
     "output_type": "stream",
     "text": [
      "7"
     ]
    }
   ],
   "source": [
    "function gcd(r1,r2)\n",
    "    while r2 != 0\n",
    "        q=fld(r1,r2)\n",
    "        r=r1-r2*q\n",
    "        r1=r2\n",
    "        r2=r\n",
    "    end\n",
    "    return r1\n",
    "end\n",
    "function sigmoid(x)\n",
    "    return 1/(1+exp(-x))\n",
    "end\n",
    "function gcd_s(r1,r2)\n",
    "    s1=1\n",
    "    s2=0\n",
    "    while r2 != 0\n",
    "        q=fld(r1,r2)\n",
    "        s=s1-s2*q\n",
    "        s1=s2\n",
    "        s2=s\n",
    "        r=r1-r2*q\n",
    "        r1=r2\n",
    "        r2=r\n",
    "    end\n",
    "    return r1,s1\n",
    "end\n",
    "function gcd_ts(r1,r2)\n",
    "    t1=0\n",
    "    t2=1\n",
    "    s1=1\n",
    "    s2=0\n",
    "    while r2 != 0\n",
    "        q=fld(r1,r2)\n",
    "        s=s1-s2*q\n",
    "        s1=s2\n",
    "        s2=s\n",
    "        t=t1-t2*q\n",
    "        t1=t2\n",
    "        t2=t\n",
    "        r=r1-r2*q\n",
    "        r1=r2\n",
    "        r2=r\n",
    "    end\n",
    "    return r1,s1\n",
    "end\n",
    "a=gcd(161,28)\n",
    "print(a)\n"
   ]
  },
  {
   "cell_type": "code",
   "execution_count": 9,
   "metadata": {},
   "outputs": [
    {
     "data": {
      "text/plain": [
       "7"
      ]
     },
     "execution_count": 9,
     "metadata": {},
     "output_type": "execute_result"
    }
   ],
   "source": [
    "mod1(7,10)"
   ]
  }
 ],
 "metadata": {
  "kernelspec": {
   "display_name": "Julia 1.5.2",
   "language": "julia",
   "name": "julia-1.5"
  },
  "language_info": {
   "file_extension": ".jl",
   "mimetype": "application/julia",
   "name": "julia",
   "version": "1.5.2"
  }
 },
 "nbformat": 4,
 "nbformat_minor": 4
}
